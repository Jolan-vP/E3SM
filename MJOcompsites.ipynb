{
 "cells": [
  {
   "cell_type": "code",
   "execution_count": 1,
   "metadata": {},
   "outputs": [
    {
     "name": "stdout",
     "output_type": "stream",
     "text": [
      "python version = 3.10.10 | packaged by conda-forge | (main, Mar 24 2023, 20:08:06) [GCC 11.3.0]\n",
      "numpy version = 1.26.4\n",
      "xarray version = 2024.3.0\n"
     ]
    }
   ],
   "source": [
    "import sys\n",
    "import os\n",
    "os.environ['PROJ_DATA'] = \"/pscratch/sd/p/plutzner/proj_data\"\n",
    "import xarray as xr\n",
    "import random\n",
    "import numpy as np\n",
    "import importlib as imp\n",
    "import pandas as pd\n",
    "import matplotlib.pyplot as plt\n",
    "import pickle\n",
    "import cartopy.crs as ccrs\n",
    "#import matplotlib.colors as mcolorsxx\n",
    "\n",
    "%load_ext autoreload\n",
    "%autoreload 2\n",
    "# import utils\n",
    "import utils\n",
    "import utils.filemethods as filemethods\n",
    "from databuilder.data_generator import ClimateData\n",
    "import databuilder.data_generator as data_generator\n",
    "\n",
    "# import databuilder.nino_indices as nino_indices # CAUSES CELL TO HANG\n",
    "\n",
    "print(f\"python version = {sys.version}\")\n",
    "print(f\"numpy version = {np.__version__}\")\n",
    "print(f\"xarray version = {xr.__version__}\")"
   ]
  },
  {
   "cell_type": "code",
   "execution_count": 2,
   "metadata": {},
   "outputs": [],
   "source": [
    "config = utils.get_config(\"exp001\")\n",
    "seed = config[\"seed_list\"][0]"
   ]
  },
  {
   "cell_type": "markdown",
   "metadata": {},
   "source": [
    "### Open [d_train, d_val, d_test] from PKL"
   ]
  },
  {
   "cell_type": "code",
   "execution_count": 3,
   "metadata": {},
   "outputs": [],
   "source": [
    "import pickle\n",
    "import gzip\n",
    "\n",
    "data_savename1 = \"/pscratch/sd/p/plutzner/E3SM/bigdata/presaved/exp001_d_train.pkl\"\n",
    "\n",
    "data_savename2 = \"/pscratch/sd/p/plutzner/E3SM/bigdata/presaved/exp001_d_val.pkl\"\n",
    "\n",
    "data_savename3 = \"/pscratch/sd/p/plutzner/E3SM/bigdata/presaved/exp001_d_test.pkl\"\n",
    "\n",
    "with gzip.open(data_savename1, \"rb\") as obj1:\n",
    "    d_train = pickle.load(obj1)\n",
    "obj1.close()\n",
    "\n",
    "with gzip.open(data_savename2, \"rb\") as obj2:\n",
    "    d_val = pickle.load(obj2)\n",
    "obj2.close()\n",
    "\n",
    "with gzip.open(data_savename3, \"rb\") as obj3:\n",
    "    d_test = pickle.load(obj3)\n",
    "obj3.close()"
   ]
  },
  {
   "cell_type": "markdown",
   "metadata": {},
   "source": [
    "#### Calculate MJO Indices, Plot Global Plots"
   ]
  },
  {
   "cell_type": "code",
   "execution_count": null,
   "metadata": {},
   "outputs": [],
   "source": [
    "import databuilder.MJOindicescompositor as MJOindicescompositor\n",
    "from databuilder.MJOindicescompositor import compositeindices\n",
    "imp.reload(MJOindicescompositor)\n",
    "\n",
    "d_dict = {0: d_train, 1: d_val, 2:d_test}\n",
    "\n",
    "MJOarray = np.zeros([60225, 7, 3])\n",
    "\n",
    "for key in d_dict:\n",
    "    print(key)\n",
    "    MJOarray[...,key] = compositeindices(config, d_dict[key][\"x\"], iens=key) # Make MJO array data including leading nans available as an input\n"
   ]
  },
  {
   "cell_type": "markdown",
   "metadata": {},
   "source": [
    "#### Save MJO data with front nans as PKL"
   ]
  },
  {
   "cell_type": "code",
   "execution_count": null,
   "metadata": {},
   "outputs": [],
   "source": [
    "# import pickle\n",
    "# import gzip\n",
    "\n",
    "# MJOsavename = '/pscratch/sd/p/plutzner/E3SM/bigdata/presaved/MJOarray.leadnans.1850-2014.pkl'\n",
    "# with gzip.open(MJOsavename, \"wb\") as fp:\n",
    "    # pickle.dump(MJOarray, fp)\n",
    "\n",
    "# with gzip.open(MJOsavename, \"rb\") as obj:\n",
    "#     MJOarray = pickle.load(obj)\n",
    "# obj.close()"
   ]
  }
 ],
 "metadata": {
  "kernelspec": {
   "display_name": "Python 3",
   "language": "python",
   "name": "python3"
  },
  "language_info": {
   "codemirror_mode": {
    "name": "ipython",
    "version": 3
   },
   "file_extension": ".py",
   "mimetype": "text/x-python",
   "name": "python",
   "nbconvert_exporter": "python",
   "pygments_lexer": "ipython3",
   "version": "3.10.10"
  }
 },
 "nbformat": 4,
 "nbformat_minor": 2
}
