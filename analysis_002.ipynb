{
 "cells": [
  {
   "cell_type": "code",
   "execution_count": 53,
   "metadata": {
    "tags": []
   },
   "outputs": [
    {
     "name": "stdout",
     "output_type": "stream",
     "text": [
      "The autoreload extension is already loaded. To reload it, use:\n",
      "  %reload_ext autoreload\n",
      "python version = 3.10.10 | packaged by conda-forge | (main, Mar 24 2023, 20:08:06) [GCC 11.3.0]\n",
      "numpy version = 1.26.4\n",
      "xarray version = 2024.5.0\n",
      "pytorch version = 2.0.0.post104\n"
     ]
    }
   ],
   "source": [
    "import sys\n",
    "import os\n",
    "os.environ['PROJ_DATA'] = \"/pscratch/sd/p/plutzner/proj_data\"\n",
    "import xarray as xr\n",
    "import torch\n",
    "import torchinfo\n",
    "import random\n",
    "import numpy as np\n",
    "import importlib as imp\n",
    "import pandas as pd\n",
    "import matplotlib.pyplot as plt\n",
    "import pickle\n",
    "import cartopy.crs as ccrs\n",
    "import json\n",
    "import pickle\n",
    "import gzip\n",
    "#import matplotlib.colors as mcolorsxx\n",
    "\n",
    "%load_ext autoreload\n",
    "%autoreload 2\n",
    "import utils\n",
    "import utils.filemethods as filemethods\n",
    "import databuilder.data_loader as data_loader\n",
    "import model.loss as module_loss\n",
    "import model.metric as module_metric\n",
    "from databuilder.data_generator import multi_input_data_organizer\n",
    "import databuilder.data_loader as data_loader\n",
    "from trainer.trainer import Trainer\n",
    "from model.build_model import TorchModel\n",
    "from utils import utils\n",
    "# import databuilder.nino_indices as nino_indices # CAUSES CELL TO HANG\n",
    "\n",
    "print(f\"python version = {sys.version}\")\n",
    "print(f\"numpy version = {np.__version__}\")\n",
    "print(f\"xarray version = {xr.__version__}\")\n",
    "print(f\"pytorch version = {torch.__version__}\")\n",
    "\n",
    "# https://github.com/victoresque/pytorch-template/tree/master"
   ]
  },
  {
   "cell_type": "code",
   "execution_count": 54,
   "metadata": {
    "tags": []
   },
   "outputs": [],
   "source": [
    "config = utils.get_config(\"exp002\")\n",
    "seed = config[\"seed_list\"][0]\n",
    "\n",
    "torch.manual_seed(seed)\n",
    "torch.cuda.manual_seed(seed)\n",
    "np.random.seed(seed)\n",
    "random.seed(seed)\n",
    "torch.backends.cudnn.deterministic = True"
   ]
  },
  {
   "cell_type": "markdown",
   "metadata": {},
   "source": [
    "Process + Pickle Inputs and Targets"
   ]
  },
  {
   "cell_type": "code",
   "execution_count": 90,
   "metadata": {
    "tags": []
   },
   "outputs": [
    {
     "name": "stdout",
     "output_type": "stream",
     "text": [
      "Opening MJO PCs\n",
      "Opening Nino34 Data\n",
      "/pscratch/sd/p/plutzner/E3SM/bigdata/E3SMv2data/member0101/member0101.Nino34.daily.int.nc\n",
      "Opening exp001 to extract target data for TRAINING\n",
      "Opening exp001 to extract target data for VALIDATION\n",
      "Opening exp001 to extract target data for TESTING\n",
      "Combining Input and target data\n",
      "(60211, 3, 3)\n"
     ]
    }
   ],
   "source": [
    "# s_dict_train, s_dict_val, s_dict_test = multi_input_data_organizer(config)\n",
    "\n",
    "# s_dict_train[\"x\"][:124]\n",
    "\n",
    "# s_dict_savename1 = '/pscratch/sd/p/plutzner/E3SM/bigdata/presaved/exp002_train.pkl'\n",
    "# with gzip.open(s_dict_savename1, \"wb\") as fp:\n",
    "#     pickle.dump(s_dict_train, fp)\n",
    "\n",
    "# s_dict_savename2 = '/pscratch/sd/p/plutzner/E3SM/bigdata/presaved/exp002_val.pkl'\n",
    "# with gzip.open(s_dict_savename2, \"wb\") as fp:\n",
    "#     pickle.dump(s_dict_val, fp)\n",
    "\n",
    "# s_dict_savename3 = '/pscratch/sd/p/plutzner/E3SM/bigdata/presaved/exp002_test.pkl'\n",
    "# with gzip.open(s_dict_savename3, \"wb\") as fp:\n",
    "#     pickle.dump(s_dict_test, fp)"
   ]
  },
  {
   "cell_type": "markdown",
   "metadata": {},
   "source": [
    "Retrieve Data: \n"
   ]
  },
  {
   "cell_type": "code",
   "execution_count": 55,
   "metadata": {
    "tags": []
   },
   "outputs": [
    {
     "name": "stdout",
     "output_type": "stream",
     "text": [
      "X1 shape: (60090,)\n",
      "Input unit shape: (60090,)\n",
      "X1 shape: (60090,)\n",
      "Input unit shape: (60090,)\n"
     ]
    }
   ],
   "source": [
    "# Setup the Data\n",
    "trainset = data_loader.CustomData(config[\"data_loader\"][\"data_dir\"] + \"exp002_train.pkl\")\n",
    "valset = data_loader.CustomData(config[\"data_loader\"][\"data_dir\"] + \"exp002_val.pkl\")\n",
    "\n",
    "train_loader = torch.utils.data.DataLoader(\n",
    "    trainset,\n",
    "    batch_size=config[\"data_loader\"][\"batch_size\"],\n",
    "    shuffle=True,\n",
    "    drop_last=False,\n",
    ")\n",
    "\n",
    "val_loader = torch.utils.data.DataLoader(\n",
    "    valset,\n",
    "    batch_size=config[\"data_loader\"][\"batch_size\"],\n",
    "    shuffle=False,\n",
    "    drop_last=False,\n",
    ")"
   ]
  },
  {
   "cell_type": "markdown",
   "metadata": {},
   "source": [
    "Model Setup"
   ]
  },
  {
   "cell_type": "code",
   "execution_count": 56,
   "metadata": {},
   "outputs": [
    {
     "name": "stdout",
     "output_type": "stream",
     "text": [
      "Warning: MPS device not found.Training will be performed on CPU.\n"
     ]
    }
   ],
   "source": [
    "# Setup the Model\n",
    "model = TorchModel(\n",
    "    config=config[\"arch\"],\n",
    "    target_mean=trainset.target.mean(axis=0),\n",
    "    target_std=trainset.target.std(axis=0),\n",
    ")\n",
    "model.freeze_layers(freeze_id=\"tau\")\n",
    "optimizer = getattr(torch.optim, config[\"optimizer\"][\"type\"])(\n",
    "    model.parameters(), **config[\"optimizer\"][\"args\"]\n",
    ")\n",
    "criterion = getattr(module_loss, config[\"criterion\"])()\n",
    "metric_funcs = [getattr(module_metric, met) for met in config[\"metrics\"]]\n",
    "\n",
    "# Build the trainer\n",
    "device = utils.prepare_device(config[\"device\"])\n",
    "trainer = Trainer(\n",
    "    model,\n",
    "    criterion,\n",
    "    metric_funcs,\n",
    "    optimizer,\n",
    "    max_epochs=config[\"trainer\"][\"max_epochs\"],\n",
    "    data_loader=train_loader,\n",
    "    validation_data_loader=val_loader,\n",
    "    device=device,\n",
    "    config=config,\n",
    ")\n"
   ]
  },
  {
   "cell_type": "code",
   "execution_count": 57,
   "metadata": {},
   "outputs": [
    {
     "name": "stdout",
     "output_type": "stream",
     "text": [
      "===================================================================================================================\n",
      "Layer (type:depth-idx)                   Input Shape               Output Shape              Param #\n",
      "===================================================================================================================\n",
      "TorchModel                               [32]                      [32, 4]                   --\n",
      "├─Linear: 1-1                            [32, 3]                   [32, 3]                   12\n",
      "├─Linear: 1-2                            [32, 3]                   [32, 3]                   12\n",
      "├─Flatten: 1-3                           [32, 3]                   [32, 3]                   --\n",
      "├─Sequential: 1-4                        [32, 3]                   [32, 3]                   --\n",
      "│    └─Sequential: 2-1                   [32, 3]                   [32, 3]                   --\n",
      "│    │    └─Linear: 3-1                  [32, 3]                   [32, 3]                   12\n",
      "│    │    └─ReLU: 3-2                    [32, 3]                   [32, 3]                   --\n",
      "│    └─Sequential: 2-2                   [32, 3]                   [32, 3]                   --\n",
      "│    │    └─Linear: 3-3                  [32, 3]                   [32, 3]                   12\n",
      "│    │    └─ReLU: 3-4                    [32, 3]                   [32, 3]                   --\n",
      "├─Sequential: 1-5                        [32, 3]                   [32, 3]                   --\n",
      "│    └─Linear: 2-3                       [32, 3]                   [32, 3]                   12\n",
      "│    └─ReLU: 2-4                         [32, 3]                   [32, 3]                   --\n",
      "├─Linear: 1-6                            [32, 3]                   [32, 1]                   4\n",
      "├─Sequential: 1-7                        [32, 3]                   [32, 3]                   --\n",
      "│    └─Sequential: 2-5                   [32, 3]                   [32, 3]                   --\n",
      "│    │    └─Linear: 3-5                  [32, 3]                   [32, 3]                   12\n",
      "│    │    └─ReLU: 3-6                    [32, 3]                   [32, 3]                   --\n",
      "│    └─Sequential: 2-6                   [32, 3]                   [32, 3]                   --\n",
      "│    │    └─Linear: 3-7                  [32, 3]                   [32, 3]                   12\n",
      "│    │    └─ReLU: 3-8                    [32, 3]                   [32, 3]                   --\n",
      "├─Sequential: 1-8                        [32, 3]                   [32, 3]                   --\n",
      "│    └─Linear: 2-7                       [32, 3]                   [32, 3]                   12\n",
      "│    └─ReLU: 2-8                         [32, 3]                   [32, 3]                   --\n",
      "├─Linear: 1-9                            [32, 3]                   [32, 1]                   4\n",
      "├─Sequential: 1-10                       [32, 3]                   [32, 3]                   --\n",
      "│    └─Sequential: 2-9                   [32, 3]                   [32, 3]                   --\n",
      "│    │    └─Linear: 3-9                  [32, 3]                   [32, 3]                   12\n",
      "│    │    └─ReLU: 3-10                   [32, 3]                   [32, 3]                   --\n",
      "│    └─Sequential: 2-10                  [32, 3]                   [32, 3]                   --\n",
      "│    │    └─Linear: 3-11                 [32, 3]                   [32, 3]                   12\n",
      "│    │    └─ReLU: 3-12                   [32, 3]                   [32, 3]                   --\n",
      "├─Sequential: 1-11                       [32, 3]                   [32, 3]                   --\n",
      "│    └─Linear: 2-11                      [32, 3]                   [32, 3]                   12\n",
      "│    └─ReLU: 2-12                        [32, 3]                   [32, 3]                   --\n",
      "├─Linear: 1-12                           [32, 3]                   [32, 1]                   4\n",
      "├─Sequential: 1-13                       [32, 3]                   [32, 3]                   --\n",
      "│    └─Sequential: 2-13                  [32, 3]                   [32, 3]                   --\n",
      "│    │    └─Linear: 3-13                 [32, 3]                   [32, 3]                   (12)\n",
      "│    │    └─ReLU: 3-14                   [32, 3]                   [32, 3]                   --\n",
      "│    └─Sequential: 2-14                  [32, 3]                   [32, 3]                   --\n",
      "│    │    └─Linear: 3-15                 [32, 3]                   [32, 3]                   (12)\n",
      "│    │    └─ReLU: 3-16                   [32, 3]                   [32, 3]                   --\n",
      "├─Sequential: 1-14                       [32, 3]                   [32, 3]                   --\n",
      "│    └─Linear: 2-15                      [32, 3]                   [32, 3]                   (12)\n",
      "│    └─ReLU: 2-16                        [32, 3]                   [32, 3]                   --\n",
      "├─Linear: 1-15                           [32, 3]                   [32, 1]                   (4)\n",
      "===================================================================================================================\n",
      "Total params: 184\n",
      "Trainable params: 144\n",
      "Non-trainable params: 40\n",
      "Total mult-adds (M): 0.01\n",
      "===================================================================================================================\n",
      "Input size (MB): 0.00\n",
      "Forward/backward pass size (MB): 0.01\n",
      "Params size (MB): 0.00\n",
      "Estimated Total Size (MB): 0.01\n",
      "===================================================================================================================\n",
      "Epoch   0/30\n",
      "  17.4s - train_loss: 4.69666 - val_loss: nan\n",
      "Epoch   1/30\n",
      "  15.6s - train_loss: nan - val_loss: nan\n",
      "Epoch   2/30\n",
      "  15.5s - train_loss: nan - val_loss: nan\n",
      "Epoch   3/30\n",
      "  15.3s - train_loss: nan - val_loss: nan\n",
      "Restoring model weights from the end of the best epoch None: val_loss = inf\n"
     ]
    },
    {
     "ename": "TypeError",
     "evalue": "unsupported format string passed to list.__format__",
     "output_type": "error",
     "traceback": [
      "\u001b[0;31m---------------------------------------------------------------------------\u001b[0m",
      "\u001b[0;31mTypeError\u001b[0m                                 Traceback (most recent call last)",
      "Cell \u001b[0;32mIn[57], line 14\u001b[0m\n\u001b[1;32m     12\u001b[0m \u001b[38;5;66;03m# Train the Model\u001b[39;00m\n\u001b[1;32m     13\u001b[0m model\u001b[38;5;241m.\u001b[39mto(device)\n\u001b[0;32m---> 14\u001b[0m \u001b[43mtrainer\u001b[49m\u001b[38;5;241;43m.\u001b[39;49m\u001b[43mfit\u001b[49m\u001b[43m(\u001b[49m\u001b[43m)\u001b[49m\n",
      "File \u001b[0;32m/pscratch/sd/p/plutzner/E3SM/base/base_trainer.py:82\u001b[0m, in \u001b[0;36mBaseTrainer.fit\u001b[0;34m(self)\u001b[0m\n\u001b[1;32m     77\u001b[0m \u001b[38;5;28;01mif\u001b[39;00m \u001b[38;5;28mself\u001b[39m\u001b[38;5;241m.\u001b[39mearly_stopper\u001b[38;5;241m.\u001b[39mcheck_early_stop(epoch, \u001b[38;5;28mself\u001b[39m\u001b[38;5;241m.\u001b[39mlog\u001b[38;5;241m.\u001b[39mhistory[\u001b[38;5;124m\"\u001b[39m\u001b[38;5;124mval_loss\u001b[39m\u001b[38;5;124m\"\u001b[39m][epoch], \u001b[38;5;28mself\u001b[39m\u001b[38;5;241m.\u001b[39mmodel):\n\u001b[1;32m     78\u001b[0m     \u001b[38;5;28mprint\u001b[39m(\n\u001b[1;32m     79\u001b[0m         \u001b[38;5;124mf\u001b[39m\u001b[38;5;124m\"\u001b[39m\u001b[38;5;124mRestoring model weights from the end of the best epoch \u001b[39m\u001b[38;5;132;01m{\u001b[39;00m\u001b[38;5;28mself\u001b[39m\u001b[38;5;241m.\u001b[39mearly_stopper\u001b[38;5;241m.\u001b[39mbest_epoch\u001b[38;5;132;01m}\u001b[39;00m\u001b[38;5;124m: \u001b[39m\u001b[38;5;124m\"\u001b[39m\n\u001b[1;32m     80\u001b[0m         \u001b[38;5;124mf\u001b[39m\u001b[38;5;124m\"\u001b[39m\u001b[38;5;124mval_loss = \u001b[39m\u001b[38;5;132;01m{\u001b[39;00m\u001b[38;5;28mself\u001b[39m\u001b[38;5;241m.\u001b[39mearly_stopper\u001b[38;5;241m.\u001b[39mmin_validation_loss\u001b[38;5;132;01m:\u001b[39;00m\u001b[38;5;124m.5f\u001b[39m\u001b[38;5;132;01m}\u001b[39;00m\u001b[38;5;124m\"\u001b[39m\n\u001b[1;32m     81\u001b[0m     )\n\u001b[0;32m---> 82\u001b[0m     \u001b[38;5;28;43mself\u001b[39;49m\u001b[38;5;241;43m.\u001b[39;49m\u001b[43mlog\u001b[49m\u001b[38;5;241;43m.\u001b[39;49m\u001b[43mprint\u001b[49m\u001b[43m(\u001b[49m\u001b[43midx\u001b[49m\u001b[38;5;241;43m=\u001b[39;49m\u001b[38;5;28;43mself\u001b[39;49m\u001b[38;5;241;43m.\u001b[39;49m\u001b[43mearly_stopper\u001b[49m\u001b[38;5;241;43m.\u001b[39;49m\u001b[43mbest_epoch\u001b[49m\u001b[43m)\u001b[49m\n\u001b[1;32m     84\u001b[0m     \u001b[38;5;28mself\u001b[39m\u001b[38;5;241m.\u001b[39mmodel\u001b[38;5;241m.\u001b[39mload_state_dict(\u001b[38;5;28mself\u001b[39m\u001b[38;5;241m.\u001b[39mearly_stopper\u001b[38;5;241m.\u001b[39mbest_model_state)\n\u001b[1;32m     85\u001b[0m     \u001b[38;5;28mself\u001b[39m\u001b[38;5;241m.\u001b[39mmodel\u001b[38;5;241m.\u001b[39meval()\n",
      "File \u001b[0;32m/pscratch/sd/p/plutzner/E3SM/utils/utils.py:82\u001b[0m, in \u001b[0;36mMetricTracker.print\u001b[0;34m(self, idx)\u001b[0m\n\u001b[1;32m     80\u001b[0m \u001b[38;5;28;01mfor\u001b[39;00m key \u001b[38;5;129;01min\u001b[39;00m \u001b[38;5;28mself\u001b[39m\u001b[38;5;241m.\u001b[39mhistory\u001b[38;5;241m.\u001b[39mkeys():\n\u001b[1;32m     81\u001b[0m     \u001b[38;5;28;01mif\u001b[39;00m idx \u001b[38;5;129;01mis\u001b[39;00m \u001b[38;5;28;01mNone\u001b[39;00m:\n\u001b[0;32m---> 82\u001b[0m         \u001b[38;5;28mprint\u001b[39m(\u001b[38;5;124mf\u001b[39m\u001b[38;5;124m\"\u001b[39m\u001b[38;5;124m  \u001b[39m\u001b[38;5;132;01m{\u001b[39;00mkey\u001b[38;5;132;01m}\u001b[39;00m\u001b[38;5;124m = \u001b[39m\u001b[38;5;132;01m{\u001b[39;00m\u001b[38;5;28mself\u001b[39m\u001b[38;5;241m.\u001b[39mhistory[key]\u001b[38;5;132;01m:\u001b[39;00m\u001b[38;5;124m.5f\u001b[39m\u001b[38;5;132;01m}\u001b[39;00m\u001b[38;5;124m\"\u001b[39m)\n\u001b[1;32m     83\u001b[0m     \u001b[38;5;28;01melse\u001b[39;00m:\n\u001b[1;32m     84\u001b[0m         \u001b[38;5;28mprint\u001b[39m(\u001b[38;5;124mf\u001b[39m\u001b[38;5;124m\"\u001b[39m\u001b[38;5;124m  \u001b[39m\u001b[38;5;132;01m{\u001b[39;00mkey\u001b[38;5;132;01m}\u001b[39;00m\u001b[38;5;124m = \u001b[39m\u001b[38;5;132;01m{\u001b[39;00m\u001b[38;5;28mself\u001b[39m\u001b[38;5;241m.\u001b[39mhistory[key][idx]\u001b[38;5;132;01m:\u001b[39;00m\u001b[38;5;124m.5f\u001b[39m\u001b[38;5;132;01m}\u001b[39;00m\u001b[38;5;124m\"\u001b[39m)\n",
      "\u001b[0;31mTypeError\u001b[0m: unsupported format string passed to list.__format__"
     ]
    }
   ],
   "source": [
    "# Visualize the model\n",
    "torchinfo.summary(\n",
    "    model,\n",
    "    [   trainset.x1[: config[\"data_loader\"][\"batch_size\"]].shape,\n",
    "        trainset.x2[: config[\"data_loader\"][\"batch_size\"]].shape,\n",
    "        trainset.x3[: config[\"data_loader\"][\"batch_size\"]].shape\n",
    "    ],\n",
    "    verbose=1,\n",
    "    col_names=(\"input_size\", \"output_size\", \"num_params\"),\n",
    ")\n",
    "\n",
    "# Train the Model\n",
    "model.to(device)\n",
    "trainer.fit()"
   ]
  }
 ],
 "metadata": {
  "kernelspec": {
   "display_name": "Python 3",
   "language": "python",
   "name": "python3"
  },
  "language_info": {
   "codemirror_mode": {
    "name": "ipython",
    "version": 3
   },
   "file_extension": ".py",
   "mimetype": "text/x-python",
   "name": "python",
   "nbconvert_exporter": "python",
   "pygments_lexer": "ipython3",
   "version": "3.10.10"
  }
 },
 "nbformat": 4,
 "nbformat_minor": 4
}
