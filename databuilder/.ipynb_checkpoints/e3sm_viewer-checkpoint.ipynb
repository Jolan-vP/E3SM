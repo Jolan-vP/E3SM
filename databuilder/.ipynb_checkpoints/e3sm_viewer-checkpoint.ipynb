{
 "cells": [
  {
   "cell_type": "code",
   "execution_count": null,
   "metadata": {},
   "outputs": [],
   "source": [
    "from __future__ import print_function\n",
    "import e3sm_nex\n",
    "import cdms2\n",
    "import vcs\n",
    "import requests\n",
    "import numpy\n",
    "from subprocess import Popen, PIPE\n",
    "import shlex"
   ]
  }
 ],
 "metadata": {
  "kernelspec": {
   "display_name": "Python 3",
   "language": "python",
   "name": "python3"
  },
  "language_info": {
   "name": "python",
   "version": "3.10.10"
  }
 },
 "nbformat": 4,
 "nbformat_minor": 2
}
