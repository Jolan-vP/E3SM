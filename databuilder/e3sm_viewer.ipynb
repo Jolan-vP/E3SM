{
 "cells": [
  {
   "cell_type": "code",
   "execution_count": 1,
   "metadata": {},
   "outputs": [],
   "source": [
    "from __future__ import print_function\n",
    "import os\n",
    "# Set the DISPLAY environment variable\n",
    "os.environ[\"DISPLAY\"] = \":0\"\n",
    "import e3sm_nex\n",
    "import cdms2\n",
    "import vcs\n",
    "import jupyter\n",
    "import requests\n",
    "import numpy as np\n",
    "from subprocess import Popen, PIPE\n",
    "import shlex\n",
    "import xarray as xr\n",
    "import IPython.display"
   ]
  },
  {
   "cell_type": "code",
   "execution_count": 2,
   "metadata": {},
   "outputs": [],
   "source": [
    "data_path = \"/pscratch/sd/p/plutzner/E3SM/bigdata/v2.LR.historical_0101.eam.h0.1850-01.nc\"\n",
    "grid_file_path = \"/pscratch/sd/p/plutzner/E3SM/bigdata/E3SMv2data/ne30pg2.nc\""
   ]
  },
  {
   "cell_type": "code",
   "execution_count": 3,
   "metadata": {},
   "outputs": [],
   "source": [
    "# Reads in data from grid file\n",
    "gf = cdms2.open(grid_file_path)\n",
    "\n",
    "# needs to send filled data\n",
    "lats = gf(\"grid_center_lat\").filled()\n",
    "lons = gf(\"grid_center_lon\").filled()\n",
    "\n",
    "lat_corners = gf(\"grid_corner_lat\").filled()\n",
    "lon_corners = gf(\"grid_corner_lon\").filled()"
   ]
  },
  {
   "cell_type": "code",
   "execution_count": 4,
   "metadata": {},
   "outputs": [],
   "source": [
    "# Generate grid\n",
    "grid = e3sm_nex.generateMPASGrid(lats, lons, lat_corners, lon_corners)"
   ]
  },
  {
   "cell_type": "code",
   "execution_count": 5,
   "metadata": {},
   "outputs": [],
   "source": [
    "# Load data and apply grid\n",
    "fd = cdms2.open(data_path)\n",
    "data = fd(\"TS\")\n",
    "\n",
    "# Need to clean up missing/bad values\n",
    "data = cdms2.MV2.masked_greater(np.abs(data),1.e20)\n",
    "data = e3sm_nex.applyGrid(data,grid)"
   ]
  },
  {
   "cell_type": "code",
   "execution_count": 6,
   "metadata": {},
   "outputs": [],
   "source": [
    "# plot\n",
    "# create Canvas\n",
    "x=vcs.init(bg=True, geometry=(1200,800))\n",
    "#x.backend.renWin.SetOffScreenRendering(True)\n",
    "\n",
    "# Create graphics method\n",
    "mesh = vcs.createmeshfill() # THIS LINE CRASHES THE KERNEL\n",
    "\n",
    "# Only show a sub domain\n",
    "mesh.datawc_x1 = -170\n",
    "mesh.datawc_x2 = -50\n",
    "mesh.datawc_y1 = -25\n",
    "mesh.datawc_y2 = 75\n",
    "\n",
    "# If you want to show mesh\n",
    "mesh.mesh = True\n",
    "\n",
    "x.plot(data, mesh, ratio=\"autot\")\n",
    "\n",
    "# Save the plot to a file\n",
    "x.png('plot.png')\n",
    "\n",
    "# Display the saved image in Jupyter notebook\n",
    "IPython.display.Image('plot.png')"
   ]
  }
 ],
 "metadata": {
  "kernelspec": {
   "display_name": "Python 3",
   "language": "python",
   "name": "python3"
  },
  "language_info": {
   "codemirror_mode": {
    "name": "ipython",
    "version": 3
   },
   "file_extension": ".py",
   "mimetype": "text/x-python",
   "name": "python",
   "nbconvert_exporter": "python",
   "pygments_lexer": "ipython3",
   "version": "3.7.1"
  }
 },
 "nbformat": 4,
 "nbformat_minor": 2
}
