{
 "cells": [
  {
   "cell_type": "code",
   "execution_count": 1,
   "metadata": {},
   "outputs": [],
   "source": [
    "import xarray as xr\n",
    "import matplotlib.pyplot as plt\n",
    "import pandas as pd\n",
    "import numpy as np\n",
    "from scipy import stats\n",
    "from sklearn import datasets, model_selection"
   ]
  },
  {
   "cell_type": "code",
   "execution_count": 2,
   "metadata": {},
   "outputs": [
    {
     "data": {
      "text/plain": [
       "<Figure size 640x480 with 0 Axes>"
      ]
     },
     "metadata": {},
     "output_type": "display_data"
    }
   ],
   "source": [
    "xinc = 0.5\n",
    "\n",
    "x = np.random.normal(0,1,size = (10000,))\n",
    "y = np.random.normal(0,1,size = (10000,))\n",
    "\n",
    "xbins = np.arange(-4, 4.5, xinc)\n",
    "\n",
    "hx = np.histogram(x,xbins)\n",
    "hy = np.histogram(y,xbins)\n",
    "\n",
    "plt.figure()\n",
    "\n",
    "xvals = hx[1][:-1]\n",
    "fvalsx = hx[0].astype(float)/np.size(x)\n",
    "fvalsy = hy[0].astype(float)/np.size(y)"
   ]
  },
  {
   "cell_type": "code",
   "execution_count": null,
   "metadata": {},
   "outputs": [],
   "source": []
  }
 ],
 "metadata": {
  "kernelspec": {
   "display_name": "Python 3",
   "language": "python",
   "name": "python3"
  },
  "language_info": {
   "codemirror_mode": {
    "name": "ipython",
    "version": 3
   },
   "file_extension": ".py",
   "mimetype": "text/x-python",
   "name": "python",
   "nbconvert_exporter": "python",
   "pygments_lexer": "ipython3",
   "version": "3.10.8"
  }
 },
 "nbformat": 4,
 "nbformat_minor": 2
}
