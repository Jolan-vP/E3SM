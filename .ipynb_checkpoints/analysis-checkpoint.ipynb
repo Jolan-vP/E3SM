{
 "cells": [
  {
   "cell_type": "code",
   "execution_count": 1,
   "metadata": {
    "tags": []
   },
   "outputs": [
    {
     "name": "stdout",
     "output_type": "stream",
     "text": [
      "python version = 3.10.10 | packaged by conda-forge | (main, Mar 24 2023, 20:08:06) [GCC 11.3.0]\n",
      "numpy version = 1.26.4\n",
      "xarray version = 2024.3.0\n"
     ]
    }
   ],
   "source": [
    "import sys\n",
    "import os\n",
    "os.environ['PROJ_DATA'] = \"/pscrtach/sd/p/plutzner/proj_data\"\n",
    "import xarray as xr\n",
    "import random\n",
    "import numpy as np\n",
    "import importlib as imp\n",
    "import pandas as pd\n",
    "import matplotlib.pyplot as plt\n",
    "import pickle\n",
    "import cartopy.crs as ccrs\n",
    "#import matplotlib.colors as mcolorsxx\n",
    "\n",
    "%load_ext autoreload\n",
    "%autoreload 2\n",
    "import utils\n",
    "import databuilder.filemethods as filemethods\n",
    "from databuilder.data_generator import ClimateData\n",
    "import databuilder.data_generator as data_generator\n",
    "\n",
    "import databuilder.filemethods as filemethods\n",
    "# import databuilder.nino_indices as nino_indices # CAUSES CELL TO HANG\n",
    "\n",
    "print(f\"python version = {sys.version}\")\n",
    "print(f\"numpy version = {np.__version__}\")\n",
    "print(f\"xarray version = {xr.__version__}\")"
   ]
  },
  {
   "cell_type": "code",
   "execution_count": 2,
   "metadata": {
    "tags": []
   },
   "outputs": [],
   "source": [
    "config = utils.get_config(\"exp001\")\n",
    "seed = config[\"seed_list\"][0]"
   ]
  },
  {
   "cell_type": "code",
   "execution_count": 3,
   "metadata": {
    "tags": []
   },
   "outputs": [],
   "source": [
    "imp.reload(utils)\n",
    "imp.reload(filemethods)\n",
    "imp.reload(data_generator)\n",
    "\n",
    "data = ClimateData(\n",
    "    config[\"databuilder\"], \n",
    "    expname = config[\"expname\"],\n",
    "    seed=seed,\n",
    "    data_dir = config[\"data_dir\"], \n",
    "    figure_dir=config[\"figure_dir\"],\n",
    "    fetch=False,\n",
    "    verbose=False\n",
    ")"
   ]
  },
  {
   "cell_type": "code",
   "execution_count": 4,
   "metadata": {
    "tags": []
   },
   "outputs": [
    {
     "name": "stdout",
     "output_type": "stream",
     "text": [
      "/pscratch/sd/p/plutzner/E3SM/bigdata/\n",
      "Looping through processing steps\n",
      "Processing inputs\n",
      "input region is none\n",
      "Looping through processing steps\n",
      "Processing target output\n"
     ]
    }
   ],
   "source": [
    "d_test = data.fetch_data()"
   ]
  },
  {
   "cell_type": "code",
   "execution_count": null,
   "metadata": {
    "tags": []
   },
   "outputs": [],
   "source": [
    "import pickle\n",
    "import gzip\n",
    "\n",
    "data_savename1 = \"/pscratch/sd/p/plutzner/E3SM/bigdata/presaved/exp001_d_train.pkl\"\n",
    "with gzip.open(data_savename1, \"wb\") as fp:\n",
    "    pickle.dump(d_train, fp)\n",
    "\n",
    "data_savename2 = \"/pscratch/sd/p/plutzner/E3SM/bigdata/presaved/exp001_d_val.pkl\"\n",
    "with gzip.open(data_savename2, \"wb\") as fp:\n",
    "    pickle.dump(d_val, fp)\n",
    "\n",
    "data_savename3 = \"/pscratch/sd/p/plutzner/E3SM/bigdata/presaved/exp001_d_test.pkl\"\n",
    "with gzip.open(data_savename3, \"wb\") as fp:\n",
    "    pickle.dump(d_test, fp)\n"
   ]
  },
  {
   "cell_type": "code",
   "execution_count": 6,
   "metadata": {},
   "outputs": [
    {
     "ename": "NameError",
     "evalue": "name 'd_train' is not defined",
     "output_type": "error",
     "traceback": [
      "\u001b[0;31m---------------------------------------------------------------------------\u001b[0m",
      "\u001b[0;31mNameError\u001b[0m                                 Traceback (most recent call last)",
      "Cell \u001b[0;32mIn[6], line 1\u001b[0m\n\u001b[0;32m----> 1\u001b[0m \u001b[43md_train\u001b[49m[\u001b[38;5;124m\"\u001b[39m\u001b[38;5;124mx\u001b[39m\u001b[38;5;124m\"\u001b[39m]\u001b[38;5;241m.\u001b[39mshape\n",
      "\u001b[0;31mNameError\u001b[0m: name 'd_train' is not defined"
     ]
    }
   ],
   "source": [
    "d_train[\"x\"].shape"
   ]
  },
  {
   "cell_type": "markdown",
   "metadata": {},
   "source": [
    "### MJO Composites: "
   ]
  },
  {
   "cell_type": "code",
   "execution_count": null,
   "metadata": {},
   "outputs": [],
   "source": [
    "import databuilder.MJOindicescompositor as MJOindicescompositor\n",
    "from databuilder.MJOindicescompositor import compositeindices\n",
    "imp.reload(MJOindicescompositor)\n",
    "\n",
    "d_dict = {0: d_train, 1: d_val, 2:d_test}\n",
    "\n",
    "for key in d_dict:\n",
    "    print(key)\n",
    "    compositeindices(config, d_dict[key][\"x\"], iens=key)\n"
   ]
  },
  {
   "cell_type": "markdown",
   "metadata": {},
   "source": [
    "/System/Volumes/Data/Users/C830793391/miniconda3/pkgs/libtiff-4.5.1-h313beb8_0/lib/libtiff.5.dylib\n",
    "\n",
    "\n",
    "/System/Volumes/Data/Users/C830793391/miniconda3/envs/jvp1/lib/libtiff.5.dylib\n",
    "\n",
    "Users/C830793391/miniconda3/envs/env-torch/lib/libtiff.6.dylib\n",
    "\n",
    "\n"
   ]
  },
  {
   "cell_type": "code",
   "execution_count": null,
   "metadata": {
    "tags": []
   },
   "outputs": [],
   "source": [
    "# import gzip, pickle\n",
    "\n",
    "# data_savename = \"/Users/eabarnes/big_data/e3sm_v2/presaved_data/exp001_train.pkl\"\n",
    "# with gzip.open(data_savename, \"wb\") as fp:\n",
    "#     pickle.dump(x_train, fp)\n",
    "#     pickle.dump(labels_train, fp)\n",
    "\n",
    "#     pickle.dump(x_mean, fp)\n",
    "#     pickle.dump(x_std, fp)\n",
    "    \n",
    "#     pickle.dump(lat, fp)\n",
    "#     pickle.dump(lon, fp)\n",
    "\n",
    "# data_savename = \"/Users/eabarnes/big_data/e3sm_v2/presaved_data/exp001_val_test.pkl\"\n",
    "# with gzip.open(data_savename, \"wb\") as fp:\n",
    "#     pickle.dump(x_val, fp)\n",
    "#     pickle.dump(labels_val, fp)\n",
    "\n",
    "#     pickle.dump(x_test, fp)\n",
    "#     pickle.dump(labels_test, fp)\n",
    "    \n",
    "#     pickle.dump(lat, fp)\n",
    "#     pickle.dump(lon, fp)"
   ]
  }
 ],
 "metadata": {
  "kernelspec": {
   "display_name": "env-torch",
   "language": "python",
   "name": "env-torch"
  },
  "language_info": {
   "codemirror_mode": {
    "name": "ipython",
    "version": 3
   },
   "file_extension": ".py",
   "mimetype": "text/x-python",
   "name": "python",
   "nbconvert_exporter": "python",
   "pygments_lexer": "ipython3",
   "version": "3.10.10"
  }
 },
 "nbformat": 4,
 "nbformat_minor": 4
}
