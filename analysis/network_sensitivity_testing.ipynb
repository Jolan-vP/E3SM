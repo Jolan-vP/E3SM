{
 "cells": [
  {
   "cell_type": "code",
   "execution_count": 1,
   "metadata": {},
   "outputs": [],
   "source": [
    "import sys\n",
    "import os\n",
    "os.environ['PROJ_DATA'] = \"/pscratch/sd/p/plutzner/proj_data\"\n",
    "import xarray as xr\n",
    "import torch\n",
    "import torchinfo\n",
    "import random\n",
    "import numpy as np\n",
    "import importlib as imp\n",
    "import pandas as pd\n",
    "import matplotlib.pyplot as plt\n",
    "import pickle\n",
    "import cartopy.crs as ccrs\n",
    "import json\n",
    "import pickle\n",
    "import gzip\n",
    "import scipy\n",
    "from scipy import stats"
   ]
  },
  {
   "cell_type": "markdown",
   "metadata": {},
   "source": [
    "### Collect Percentages from each SIMPLE NN"
   ]
  },
  {
   "cell_type": "code",
   "execution_count": null,
   "metadata": {},
   "outputs": [],
   "source": [
    "exp044P = 53.1\n",
    "exp045P = 51.12\n",
    "exp046P = 51.35\n",
    "exp047P = 54.05\n",
    "exp048P = 55.65\n",
    "exp049P = 52.74\n",
    "exp050P = 52.06\n",
    "exp051P = 54.08\n",
    "exp052P = 54.52\n",
    "exp053P = 56.43\n",
    "exp054P = 54.32\n",
    "exp055P = 57.35"
   ]
  },
  {
   "cell_type": "markdown",
   "metadata": {},
   "source": [
    "### Collect Percentages from each CNN"
   ]
  },
  {
   "cell_type": "code",
   "execution_count": null,
   "metadata": {},
   "outputs": [],
   "source": [
    "exp056P = 57.46\n",
    "exp057P = 58.15\n",
    "exp058P = 55.33\n",
    "exp059P =\n",
    "exp060P =\n",
    "exp061P =\n",
    "exp062P =\n",
    "exp063P =\n",
    "exp064P =\n",
    "exp065P =\n",
    "exp066P =\n",
    "exp067P ="
   ]
  }
 ],
 "metadata": {
  "kernelspec": {
   "display_name": "Python 3",
   "language": "python",
   "name": "python3"
  },
  "language_info": {
   "codemirror_mode": {
    "name": "ipython",
    "version": 3
   },
   "file_extension": ".py",
   "mimetype": "text/x-python",
   "name": "python",
   "nbconvert_exporter": "python",
   "pygments_lexer": "ipython3",
   "version": "3.10.10"
  }
 },
 "nbformat": 4,
 "nbformat_minor": 2
}
