{
 "cells": [
  {
   "cell_type": "code",
   "execution_count": 6,
   "metadata": {},
   "outputs": [
    {
     "name": "stdout",
     "output_type": "stream",
     "text": [
      "python version = 3.10.8 | packaged by conda-forge | (main, Nov 22 2022, 08:25:13) [Clang 14.0.6 ]\n",
      "numpy version = 1.23.2\n",
      "xarray version = 2024.1.0\n",
      "tensorflow version = 2.10.0\n"
     ]
    }
   ],
   "source": [
    "import xarray as xr\n",
    "import os\n",
    "import sys\n",
    "import matplotlib.pyplot as plt\n",
    "import importlib as imp\n",
    "import pandas as pd\n",
    "import numpy as np\n",
    "#import nc_time_axis\n",
    "import cftime\n",
    "from scipy import stats\n",
    "from scipy import integrate\n",
    "import scipy as scipy\n",
    "import sklearn\n",
    "import tensorflow as tf\n",
    "from sklearn import datasets, model_selection\n",
    "from glob import glob\n",
    "\n",
    "import file_methods\n",
    "import data_processing\n",
    "import experiment_settings\n",
    "\n",
    "print(f\"python version = {sys.version}\")\n",
    "print(f\"numpy version = {np.__version__}\")\n",
    "print(f\"xarray version = {xr.__version__}\")\n",
    "print(f\"tensorflow version = {tf.__version__}\")"
   ]
  },
  {
   "cell_type": "markdown",
   "metadata": {},
   "source": [
    "##### Data Source Location:  \n",
    "https://portal.nersc.gov/project/m4415/pma/E3SMv2/"
   ]
  },
  {
   "cell_type": "markdown",
   "metadata": {},
   "source": [
    "Merged member1 bilinear data using CDO env: v2.LR.historical_0101.eam.h1.1850-2014.nc"
   ]
  },
  {
   "cell_type": "code",
   "execution_count": 27,
   "metadata": {},
   "outputs": [
    {
     "name": "stdout",
     "output_type": "stream",
     "text": [
      "<class 'xarray.core.dataset.Dataset'>\n",
      "<class 'xarray.core.dataset.Dataset'>\n"
     ]
    },
    {
     "data": {
      "text/plain": [
       "(<xarray.Dataset>\n",
       " Dimensions:    (time: 60226, bnds: 2, lat: 180, lon: 360)\n",
       " Coordinates:\n",
       "   * time       (time) object 1850-01-01 00:00:00 ... 2015-01-01 00:00:00\n",
       "   * lat        (lat) float64 -89.5 -88.5 -87.5 -86.5 ... 86.5 87.5 88.5 89.5\n",
       "   * lon        (lon) float64 0.5 1.5 2.5 3.5 4.5 ... 356.5 357.5 358.5 359.5\n",
       " Dimensions without coordinates: bnds\n",
       " Data variables:\n",
       "     time_bnds  (time, bnds) object ...\n",
       "     lat_bnds   (lat, bnds) float64 ...\n",
       "     lon_bnds   (lon, bnds) float64 ...\n",
       "     gw         (lat) float64 ...\n",
       "     PRECT      (time, lat, lon) float32 ...\n",
       "     TS         (time, lat, lon) float32 ...\n",
       "     U050       (time, lat, lon) float32 ...\n",
       "     U100       (time, lat, lon) float32 ...\n",
       "     U250       (time, lat, lon) float32 ...\n",
       "     U850       (time, lat, lon) float32 ...\n",
       "     Z500       (time, lat, lon) float32 ...\n",
       " Attributes: (12/29)\n",
       "     CDI:                        Climate Data Interface version 2.3.0 (https:/...\n",
       "     Conventions:                CF-1.7\n",
       "     source:                     E3SM Atmosphere Model\n",
       "     institution:                LLNL (Lawrence Livermore National Laboratory,...\n",
       "     ne:                         30\n",
       "     fv_nphys:                   2\n",
       "     ...                         ...\n",
       "     remap_hostname:             login27\n",
       "     remap_version:              5.1.4\n",
       "     nco_openmp_thread_number:   2\n",
       "     map_file:                   /global/homes/p/plma/work/climo/maps/map_ne30...\n",
       "     input_file:                 /pscratch/sd/p/plma/DECK/member1/native/v2.LR...\n",
       "     CDO:                        Climate Data Operators version 2.3.0 (https:/...,\n",
       " <xarray.Dataset>\n",
       " Dimensions:    (time: 60226, bnds: 2, lat: 180, lon: 360)\n",
       " Coordinates:\n",
       "   * time       (time) object 1850-01-01 00:00:00 ... 2015-01-01 00:00:00\n",
       "   * lat        (lat) float64 -89.5 -88.5 -87.5 -86.5 ... 86.5 87.5 88.5 89.5\n",
       "   * lon        (lon) float64 0.5 1.5 2.5 3.5 4.5 ... 356.5 357.5 358.5 359.5\n",
       " Dimensions without coordinates: bnds\n",
       " Data variables:\n",
       "     time_bnds  (time, bnds) object ...\n",
       "     lat_bnds   (lat, bnds) float64 ...\n",
       "     lon_bnds   (lon, bnds) float64 ...\n",
       "     gw         (lat) float64 ...\n",
       "     PRECT      (time, lat, lon) float32 ...\n",
       "     TS         (time, lat, lon) float32 ...\n",
       "     U050       (time, lat, lon) float32 ...\n",
       "     U100       (time, lat, lon) float32 ...\n",
       "     U250       (time, lat, lon) float32 ...\n",
       "     U850       (time, lat, lon) float32 ...\n",
       "     Z500       (time, lat, lon) float32 ...\n",
       " Attributes: (12/29)\n",
       "     CDI:                        Climate Data Interface version 2.3.0 (https:/...\n",
       "     Conventions:                CF-1.7\n",
       "     source:                     E3SM Atmosphere Model\n",
       "     institution:                LLNL (Lawrence Livermore National Laboratory,...\n",
       "     ne:                         30\n",
       "     fv_nphys:                   2\n",
       "     ...                         ...\n",
       "     remap_hostname:             login27\n",
       "     remap_version:              5.1.4\n",
       "     nco_openmp_thread_number:   2\n",
       "     map_file:                   /global/homes/p/plma/work/climo/maps/map_ne30...\n",
       "     input_file:                 /pscratch/sd/p/plma/DECK/member1/native/v2.LR...\n",
       "     CDO:                        Climate Data Operators version 2.3.0 (https:/...)"
      ]
     },
     "execution_count": 27,
     "metadata": {},
     "output_type": "execute_result"
    }
   ],
   "source": [
    "imp.reload(file_methods)\n",
    "imp.reload(data_processing)\n",
    "imp.reload(experiment_settings)\n",
    "\n",
    "first_member = \"0101\"\n",
    "\n",
    "settings = experiment_settings.get_settings(\"exp01\")\n",
    "directory = '/Users/C830793391/BIG DATA/E3SM Data/member1/bilinear/'\n",
    "member1_bilinear_0101 = data_processing.load_inputs(directory, settings, first_member)\n",
    "type(member1_bilinear_0101)\n",
    "member1_bilinear_0101"
   ]
  },
  {
   "cell_type": "code",
   "execution_count": null,
   "metadata": {},
   "outputs": [],
   "source": []
  }
 ],
 "metadata": {
  "kernelspec": {
   "display_name": "env-e3sm",
   "language": "python",
   "name": "python3"
  },
  "language_info": {
   "codemirror_mode": {
    "name": "ipython",
    "version": 3
   },
   "file_extension": ".py",
   "mimetype": "text/x-python",
   "name": "python",
   "nbconvert_exporter": "python",
   "pygments_lexer": "ipython3",
   "version": "3.10.8"
  }
 },
 "nbformat": 4,
 "nbformat_minor": 2
}
